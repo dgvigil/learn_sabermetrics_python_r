{
 "cells": [
  {
   "cell_type": "code",
   "execution_count": 25,
   "metadata": {
    "collapsed": true
   },
   "outputs": [],
   "source": [
    "\"\"\" Let's learn some NLTK with baseball \"\"\"\n",
    "import nltk\n",
    "from nltk.tokenize import word_tokenize\n",
    "from nltk.corpus import stopwords"
   ]
  },
  {
   "cell_type": "code",
   "execution_count": 26,
   "metadata": {},
   "outputs": [],
   "source": [
    "\"\"\" Let's take out meaningless words \"\"\"\n",
    "STOPSET = set(stopwords.words('english'))\n",
    "STOPSET.update((\" ' \", ',', '.', 'I', \"'s\", 'And', '-', \"n't\", \"'m\", \"it\", '\"'))\n",
    "\"\"\"  Thanks to the Baseball Hall of Fame for providing me\n",
    "     to the transcripts for the induction speeches.  I'm only using\n",
    "     a few from 2003 to 2016 because there are some missing. \"\"\"\n",
    "# Adding the speeches file\n",
    "with open('data/HOF_speeches_2003_to_2016.txt', 'r') as text_file:\n",
    "    TEXT = text_file.read()\n",
    "    CORPUS = word_tokenize(str(TEXT))\n",
    "    CORPUS = [w for w in CORPUS if not w in STOPSET] "
   ]
  },
  {
   "cell_type": "code",
   "execution_count": 27,
   "metadata": {},
   "outputs": [
    {
     "name": "stdout",
     "output_type": "stream",
     "text": [
      "Total words in this analysis: 37074\n",
      "Total UNIQUE words: 6936\n",
      "Percentage that are UNIQUE words: 0.18708528888169607\n"
     ]
    }
   ],
   "source": [
    "ABSTRACTS = nltk.Text(CORPUS)\n",
    "ALL_WORDS = len(CORPUS)\n",
    "UNIQ_WORDS = len(set(CORPUS))\n",
    "UNIQ_PERCETAGE = len(set(CORPUS)) / len(CORPUS)\n",
    "print(\"Total words in this analysis: \" + str(ALL_WORDS))\n",
    "print(\"Total UNIQUE words: \" + str(UNIQ_WORDS))\n",
    "print(\"Percentage that are UNIQUE words: \" + str(UNIQ_PERCETAGE))"
   ]
  },
  {
   "cell_type": "code",
   "execution_count": 28,
   "metadata": {},
   "outputs": [
    {
     "data": {
      "image/png": "[encoded data removed]",
      "text/plain": [
       "<matplotlib.figure.Figure at 0x7fca71f29588>"
      ]
     },
     "metadata": {},
     "output_type": "display_data"
    }
   ],
   "source": [
    "# What are the top 25 most commonly used words\n",
    "FD = nltk.FreqDist(CORPUS)\n",
    "FD.plot(25, cumulative=False)"
   ]
  },
  {
   "cell_type": "code",
   "execution_count": 29,
   "metadata": {},
   "outputs": [
    {
     "name": "stdout",
     "output_type": "stream",
     "text": [
      "[(('Hall', 'Fame'), 109), (('said', '``'), 79), (('like', 'thank'), 66), (('would', 'like'), 55), (('World', 'Series'), 42), (('want', 'thank'), 42), (('New', 'York'), 37), (('every', 'day'), 36), (('?', \"''\"), 34), (('high', 'school'), 33), (('big', 'leagues'), 32), ((\"'d\", 'like'), 31), ((\"'ve\", 'got'), 30), (('Hall', 'Famers'), 26), (('You', 'know'), 25), (('Baseball', 'Hall'), 25), (('game', 'baseball'), 24), (('You', \"'re\"), 23), (('thank', 'much'), 22), (('play', 'game'), 22), (('first', 'time'), 21), (('never', 'forget'), 21), (('thank', 'enough'), 21), (('Thank', 'much'), 20), (('He', 'said'), 20)]\n"
     ]
    }
   ],
   "source": [
    "\"\"\" Let's look for some common thoughts or ideas of the speeches\"\"\"\n",
    "from nltk.util import ngrams\n",
    "two_word_combos = ngrams(CORPUS, 2)\n",
    "fdist = nltk.FreqDist(two_word_combos)\n",
    "print(fdist.most_common(25))"
   ]
  },
  {
   "cell_type": "code",
   "execution_count": 30,
   "metadata": {},
   "outputs": [
    {
     "name": "stdout",
     "output_type": "stream",
     "text": [
      "[(('would', 'like', 'thank'), 35), (('Baseball', 'Hall', 'Fame'), 25), ((\"''\", 'said', '``'), 17), ((\"'d\", 'like', 'thank'), 17), (('(', 'Laughter', ')'), 16), (('He', 'said', '``'), 15), (('ca', 'thank', 'enough'), 14), (('also', 'like', 'thank'), 11), (('National', 'Baseball', 'Hall'), 11), (('said', '``', 'You'), 10), ((\"'ll\", 'never', 'forget'), 10), (('Boston', 'Red', 'Sox'), 10), (('?', \"''\", 'said'), 10), (('New', 'York', 'Yankees'), 10), (('would', 'also', 'like'), 9), (('inducted', 'Hall', 'Fame'), 9), ((\"''\", 'He', 'said'), 8), (('Jane', 'Forbes', 'Clark'), 8), (('thank', 'Hall', 'Fame'), 7), (('great', 'game', 'baseball'), 7), (('St.', 'Louis', 'Cardinals'), 7), (('?', \"''\", 'He'), 6), ((\"'ll\", 'always', 'remember'), 6), (('would', 'standing', 'today'), 6), (('game', 'right', 'way'), 6)]\n"
     ]
    }
   ],
   "source": [
    "\"\"\" Let's look at three word combos and not just 2 word combos\"\"\"\n",
    "three_word_combos = ngrams(CORPUS, 3)\n",
    "fdist = nltk.FreqDist(three_word_combos)\n",
    "print(fdist.most_common(25))"
   ]
  },
  {
   "cell_type": "code",
   "execution_count": 48,
   "metadata": {},
   "outputs": [
    {
     "name": "stdout",
     "output_type": "stream",
     "text": [
      "ANNE VERNON\n",
      "BOBBY COX\n",
      "BOB UECKER\n",
      "BRUCE SUTTER\n",
      "BUD SELIG\n",
      "BUD SELIG\n",
      "CAL RIPKEN, JR \n",
      "CRAIG BIGGIO\n",
      "DENNIS ECKERSLEY\n",
      "DENNIS MCNAMARA\n",
      "EDDIE MURRAY\n",
      "FRANK THOMAS\n",
      "GARY CARTER\n",
      "GREG MADDUX\n",
      "HAL MCCOY\n",
      "JERRY WATKINS\n",
      "JOE MORGAN\n",
      "JOE TORRE\n",
      "JOHNNY BENCH\n",
      "JOHNNY BENCH\n",
      "JOHN SMOLTZ\n",
      "KEN GRIFFEY, JR.\n",
      "LON SIMMONS\n",
      "MIKE PIAZZA\n",
      "MURRAY CHASS\n",
      "PAUL HAGEN\n",
      "PAUL MOLITOR\n",
      "PEDRO MARTINEZ\n",
      "RABBI MARK MILLER\n",
      "RANDY JOHNSON\n",
      "RYNE SANDBERG\n",
      "SCOT MONDORE\n",
      "TOM GLAVINE\n",
      "TONY GWYNN \n",
      "TONY LA RUSSA\n",
      "WADE BOGGS\n"
     ]
    }
   ],
   "source": [
    "\"\"\" So it appears from the above results that there is a alot of refrences to being thankful, the Baseball HOF, plenty\n",
    "of quoting other people, the Red Sox and the Yankes. Perhaps the speaker is the reason for those teams though\"\"\"\n",
    "!cut -d: -f1 data/HOF_speeches_2003_to_2016.txt | sort\n",
    "# Note: A few of these folks are just speakers or introducing folks and not being inducted."
   ]
  },
  {
   "cell_type": "code",
   "execution_count": null,
   "metadata": {
    "collapsed": true
   },
   "outputs": [],
   "source": []
  }
 ],
 "metadata": {
  "kernelspec": {
   "display_name": "Python 3",
   "language": "python",
   "name": "python3"
  },
  "language_info": {
   "codemirror_mode": {
    "name": "ipython",
    "version": 3
   },
   "file_extension": ".py",
   "mimetype": "text/x-python",
   "name": "python",
   "nbconvert_exporter": "python",
   "pygments_lexer": "ipython3",
   "version": "3.7.0"
  }
 },
 "nbformat": 4,
 "nbformat_minor": 2
}
