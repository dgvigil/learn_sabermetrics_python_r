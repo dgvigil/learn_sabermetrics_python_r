{
 "cells": [
  {
   "cell_type": "code",
   "execution_count": 1,
   "metadata": {
    "collapsed": true
   },
   "outputs": [],
   "source": [
    "\"\"\" Attendence for Houston Astros at Minute Maid Park \"\"\"\n",
    "import glob\n",
    "import os\n",
    "import pandas as pd\n",
    "import matplotlib.pyplot as plt"
   ]
  },
  {
   "cell_type": "code",
   "execution_count": 2,
   "metadata": {
    "collapsed": true
   },
   "outputs": [],
   "source": [
    "\"\"\" Let's load up the data into a dataframe called ATTENDENCE \"\"\"\n",
    "PATH = r'./data'\n",
    "ALL_FILES = glob.glob(os.path.join(PATH, \"attendence-stadium-*.csv\"))\n",
    "DF_FROM_EACH_FILE = (pd.read_csv(f) for f in ALL_FILES)\n",
    "ATTENDENCE = pd.concat(DF_FROM_EACH_FILE, ignore_index=True)"
   ]
  },
  {
   "cell_type": "code",
   "execution_count": 3,
   "metadata": {
    "collapsed": true
   },
   "outputs": [],
   "source": [
    "# Fixing the date\n",
    "for count in range(len(ATTENDENCE['GAME_DT'])):\n",
    "    bad_date = str(ATTENDENCE['GAME_DT'][count])\n",
    "    year = bad_date[0:4]\n",
    "    month = bad_date[4:6]\n",
    "    day = bad_date[6:8]\n",
    "    new_date = year + \"-\" + month + \"-\" + day\n",
    "    ATTENDENCE.at[count, 'GAME_DT'] = pd.to_datetime(new_date)\n",
    "    ATTENDENCE.at[count, 'YEAR'] = year"
   ]
  },
  {
   "cell_type": "code",
   "execution_count": 4,
   "metadata": {
    "collapsed": true
   },
   "outputs": [],
   "source": [
    "# Let's sort them by date\n",
    "ATTENDENCE = ATTENDENCE.sort_values(by='GAME_DT')\n",
    "ATTENDENCE = ATTENDENCE.reset_index(drop=True)"
   ]
  },
  {
   "cell_type": "code",
   "execution_count": 5,
   "metadata": {
    "collapsed": true
   },
   "outputs": [],
   "source": [
    "# Ensure that we only have results for Minute Maid Park 'HOU03'\n",
    "HOU03 = ATTENDENCE.loc[ATTENDENCE['PARK_ID'] == \"HOU03\"]"
   ]
  },
  {
   "cell_type": "code",
   "execution_count": 6,
   "metadata": {},
   "outputs": [
    {
     "name": "stdout",
     "output_type": "stream",
     "text": [
      "SUMMARY of Attedence at Minute Maid Park\n",
      "       ATTEND_PARK_CT\n",
      "count     1452.000000\n",
      "mean     30570.674931\n",
      "std       7952.363975\n",
      "min      11686.000000\n",
      "25%      24480.000000\n",
      "50%      30840.500000\n",
      "75%      36821.250000\n",
      "max      44203.000000\n"
     ]
    }
   ],
   "source": [
    "print(\"SUMMARY of Attedence at Minute Maid Park\")\n",
    "print(HOU03.describe())"
   ]
  },
  {
   "cell_type": "code",
   "execution_count": 7,
   "metadata": {},
   "outputs": [
    {
     "data": {
      "text/plain": [
       "\" The above shows us that the average game in Minute Maid Park is\\n30,570. The game with the lowest attendence was 11,686 and the game\\nwith the most was 44,203. Cool, no?  Not enough info.  Let's look at\\na pretty graph to see how Houston fans showed up through the years.\""
      ]
     },
     "execution_count": 7,
     "metadata": {},
     "output_type": "execute_result"
    }
   ],
   "source": [
    "\"\"\" The above shows us that the average game in Minute Maid Park is\n",
    "30,570. The game with the lowest attendence was 11,686 and the game\n",
    "with the most was 44,203. Cool, no?  Not enough info.  Let's look at\n",
    "a pretty graph to see how Houston fans showed up through the years.\"\"\""
   ]
  },
  {
   "cell_type": "code",
   "execution_count": 8,
   "metadata": {},
   "outputs": [
    {
     "data": {
      "image/png": "[encoded data removed]",
      "text/plain": [
       "<matplotlib.figure.Figure at 0x18a3efc7c18>"
      ]
     },
     "metadata": {},
     "output_type": "display_data"
    }
   ],
   "source": [
    "# We'll group by year and then plot it.\n",
    "HOU_GRAPH = HOU03.groupby(HOU03.YEAR)\n",
    "HOU03.boxplot(by='YEAR')\n",
    "plt.show()"
   ]
  },
  {
   "cell_type": "code",
   "execution_count": null,
   "metadata": {
    "collapsed": true
   },
   "outputs": [],
   "source": []
  }
 ],
 "metadata": {
  "kernelspec": {
   "display_name": "Python 3",
   "language": "python",
   "name": "python3"
  },
  "language_info": {
   "codemirror_mode": {
    "name": "ipython",
    "version": 3
   },
   "file_extension": ".py",
   "mimetype": "text/x-python",
   "name": "python",
   "nbconvert_exporter": "python",
   "pygments_lexer": "ipython3",
   "version": "3.6.3"
  }
 },
 "nbformat": 4,
 "nbformat_minor": 2
}
