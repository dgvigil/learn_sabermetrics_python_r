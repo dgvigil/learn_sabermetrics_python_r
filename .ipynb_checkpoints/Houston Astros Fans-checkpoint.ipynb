{
 "cells": [
  {
   "cell_type": "code",
   "execution_count": 5,
   "metadata": {},
   "outputs": [
    {
     "data": {
      "text/plain": [
       "\"\\nLet's graph the Houston Astros attendence at Minute Maid Park\\n\""
      ]
     },
     "execution_count": 5,
     "metadata": {},
     "output_type": "execute_result"
    }
   ],
   "source": [
    "\"\"\"\n",
    "Let's graph the Houston Astros attendence at Minute Maid Park\n",
    "\"\"\""
   ]
  },
  {
   "cell_type": "code",
   "execution_count": 6,
   "metadata": {},
   "outputs": [],
   "source": [
    "import glob\n",
    "import os\n",
    "import pandas as pd\n",
    "import matplotlib.pyplot as plt"
   ]
  },
  {
   "cell_type": "code",
   "execution_count": 7,
   "metadata": {},
   "outputs": [],
   "source": [
    "# We'll pull in the data\n",
    "PATH = r'./data'\n",
    "ALL_FILES = glob.glob(os.path.join(PATH, \"attendence-stadium-*.csv\"))\n",
    "DF_FROM_EACH_FILE = (pd.read_csv(f) for f in ALL_FILES)\n",
    "ATTENDENCE = pd.concat(DF_FROM_EACH_FILE, ignore_index=True)"
   ]
  },
  {
   "cell_type": "code",
   "execution_count": 8,
   "metadata": {},
   "outputs": [],
   "source": [
    "# Fixing the date\n",
    "for count in range(len(ATTENDENCE['GAME_DT'])):\n",
    "    bad_date = str(ATTENDENCE['GAME_DT'][count])\n",
    "    year = bad_date[0:4]\n",
    "    month = bad_date[4:6]\n",
    "    day = bad_date[6:8]\n",
    "    new_date = year + \"-\" + month + \"-\" + day\n",
    "    ATTENDENCE.at[count, 'GAME_DT'] = pd.to_datetime(new_date)\n",
    "    ATTENDENCE.at[count, 'YEAR'] = year"
   ]
  },
  {
   "cell_type": "code",
   "execution_count": 9,
   "metadata": {},
   "outputs": [],
   "source": [
    "# Let's sort it and only get attendence for Minute Maid Park\n",
    "ATTENDENCE = ATTENDENCE.sort_values(by='GAME_DT')\n",
    "ATTENDENCE = ATTENDENCE.reset_index(drop=True)\n",
    "\n",
    "HOU03 = ATTENDENCE.loc[ATTENDENCE['PARK_ID'] == \"HOU03\"]"
   ]
  },
  {
   "cell_type": "code",
   "execution_count": 22,
   "metadata": {},
   "outputs": [
    {
     "name": "stdout",
     "output_type": "stream",
     "text": [
      "SUMMARY of Attedence at Minute Maid Park\n",
      "       ATTEND_PARK_CT\n",
      "count     1452.000000\n",
      "mean     30570.674931\n",
      "std       7952.363975\n",
      "min      11686.000000\n",
      "25%      24480.000000\n",
      "50%      30840.500000\n",
      "75%      36821.250000\n",
      "max      44203.000000\n"
     ]
    }
   ],
   "source": [
    "print(\"SUMMARY of Attedence at Minute Maid Park\")\n",
    "print(HOU03.describe())\n",
    "# This shows that the average attendence sits around 30,000\n",
    "# Its had a max of 44,000 and a low of 11,686"
   ]
  },
  {
   "cell_type": "code",
   "execution_count": 23,
   "metadata": {},
   "outputs": [
    {
     "data": {
      "text/html": [
       "<div>\n",
       "<style scoped>\n",
       "    .dataframe tbody tr th:only-of-type {\n",
       "        vertical-align: middle;\n",
       "    }\n",
       "\n",
       "    .dataframe tbody tr th {\n",
       "        vertical-align: top;\n",
       "    }\n",
       "\n",
       "    .dataframe thead th {\n",
       "        text-align: right;\n",
       "    }\n",
       "</style>\n",
       "<table border=\"1\" class=\"dataframe\">\n",
       "  <thead>\n",
       "    <tr style=\"text-align: right;\">\n",
       "      <th></th>\n",
       "      <th>W</th>\n",
       "      <th>L</th>\n",
       "      <th>Pct.</th>\n",
       "      <th>GB</th>\n",
       "      <th>Home</th>\n",
       "      <th>Road</th>\n",
       "    </tr>\n",
       "    <tr>\n",
       "      <th>YEAR</th>\n",
       "      <th></th>\n",
       "      <th></th>\n",
       "      <th></th>\n",
       "      <th></th>\n",
       "      <th></th>\n",
       "      <th></th>\n",
       "    </tr>\n",
       "  </thead>\n",
       "  <tbody>\n",
       "    <tr>\n",
       "      <th>2000</th>\n",
       "      <td>72</td>\n",
       "      <td>90</td>\n",
       "      <td>0.444</td>\n",
       "      <td>-23.0</td>\n",
       "      <td>39-42</td>\n",
       "      <td>33-48</td>\n",
       "    </tr>\n",
       "    <tr>\n",
       "      <th>2001</th>\n",
       "      <td>93</td>\n",
       "      <td>69</td>\n",
       "      <td>0.574</td>\n",
       "      <td>0.0</td>\n",
       "      <td>44-37</td>\n",
       "      <td>49-32</td>\n",
       "    </tr>\n",
       "    <tr>\n",
       "      <th>2002</th>\n",
       "      <td>84</td>\n",
       "      <td>78</td>\n",
       "      <td>0.519</td>\n",
       "      <td>-13.0</td>\n",
       "      <td>47-34</td>\n",
       "      <td>37-44</td>\n",
       "    </tr>\n",
       "    <tr>\n",
       "      <th>2003</th>\n",
       "      <td>87</td>\n",
       "      <td>75</td>\n",
       "      <td>0.537</td>\n",
       "      <td>-1.0</td>\n",
       "      <td>48-33</td>\n",
       "      <td>39-42</td>\n",
       "    </tr>\n",
       "    <tr>\n",
       "      <th>2004</th>\n",
       "      <td>92</td>\n",
       "      <td>70</td>\n",
       "      <td>0.568</td>\n",
       "      <td>-13.0</td>\n",
       "      <td>48-33</td>\n",
       "      <td>44-37</td>\n",
       "    </tr>\n",
       "    <tr>\n",
       "      <th>2005</th>\n",
       "      <td>89</td>\n",
       "      <td>73</td>\n",
       "      <td>0.549</td>\n",
       "      <td>-11.0</td>\n",
       "      <td>53-28</td>\n",
       "      <td>36-45</td>\n",
       "    </tr>\n",
       "    <tr>\n",
       "      <th>2006</th>\n",
       "      <td>82</td>\n",
       "      <td>80</td>\n",
       "      <td>0.506</td>\n",
       "      <td>-1.5</td>\n",
       "      <td>44-37</td>\n",
       "      <td>38-43</td>\n",
       "    </tr>\n",
       "    <tr>\n",
       "      <th>2007</th>\n",
       "      <td>73</td>\n",
       "      <td>89</td>\n",
       "      <td>0.451</td>\n",
       "      <td>-12.0</td>\n",
       "      <td>42-39</td>\n",
       "      <td>31-50</td>\n",
       "    </tr>\n",
       "    <tr>\n",
       "      <th>2008</th>\n",
       "      <td>86</td>\n",
       "      <td>75</td>\n",
       "      <td>0.534</td>\n",
       "      <td>-11.0</td>\n",
       "      <td>47-33</td>\n",
       "      <td>39-42</td>\n",
       "    </tr>\n",
       "    <tr>\n",
       "      <th>2009</th>\n",
       "      <td>74</td>\n",
       "      <td>88</td>\n",
       "      <td>0.457</td>\n",
       "      <td>-17.0</td>\n",
       "      <td>44-37</td>\n",
       "      <td>30-51</td>\n",
       "    </tr>\n",
       "    <tr>\n",
       "      <th>2010</th>\n",
       "      <td>76</td>\n",
       "      <td>86</td>\n",
       "      <td>0.469</td>\n",
       "      <td>-15.0</td>\n",
       "      <td>42-39</td>\n",
       "      <td>34-47</td>\n",
       "    </tr>\n",
       "    <tr>\n",
       "      <th>2011</th>\n",
       "      <td>56</td>\n",
       "      <td>106</td>\n",
       "      <td>0.346</td>\n",
       "      <td>-40.0</td>\n",
       "      <td>31-50</td>\n",
       "      <td>25-56</td>\n",
       "    </tr>\n",
       "    <tr>\n",
       "      <th>2012</th>\n",
       "      <td>55</td>\n",
       "      <td>107</td>\n",
       "      <td>0.340</td>\n",
       "      <td>-42.0</td>\n",
       "      <td>35-46</td>\n",
       "      <td>20-61</td>\n",
       "    </tr>\n",
       "    <tr>\n",
       "      <th>2013</th>\n",
       "      <td>51</td>\n",
       "      <td>111</td>\n",
       "      <td>0.315</td>\n",
       "      <td>-45.0</td>\n",
       "      <td>24-57</td>\n",
       "      <td>27-54</td>\n",
       "    </tr>\n",
       "    <tr>\n",
       "      <th>2014</th>\n",
       "      <td>70</td>\n",
       "      <td>92</td>\n",
       "      <td>0.432</td>\n",
       "      <td>-28.0</td>\n",
       "      <td>38-43</td>\n",
       "      <td>32-49</td>\n",
       "    </tr>\n",
       "    <tr>\n",
       "      <th>2015</th>\n",
       "      <td>86</td>\n",
       "      <td>76</td>\n",
       "      <td>0.531</td>\n",
       "      <td>-2.0</td>\n",
       "      <td>53-28</td>\n",
       "      <td>33-48</td>\n",
       "    </tr>\n",
       "    <tr>\n",
       "      <th>2016</th>\n",
       "      <td>84</td>\n",
       "      <td>78</td>\n",
       "      <td>0.519</td>\n",
       "      <td>-11.0</td>\n",
       "      <td>43-38</td>\n",
       "      <td>41-40</td>\n",
       "    </tr>\n",
       "    <tr>\n",
       "      <th>2017</th>\n",
       "      <td>101</td>\n",
       "      <td>61</td>\n",
       "      <td>0.623</td>\n",
       "      <td>0.0</td>\n",
       "      <td>48-33</td>\n",
       "      <td>53-28</td>\n",
       "    </tr>\n",
       "  </tbody>\n",
       "</table>\n",
       "</div>"
      ],
      "text/plain": [
       "        W    L   Pct.    GB   Home   Road\n",
       "YEAR                                     \n",
       "2000   72   90  0.444 -23.0  39-42  33-48\n",
       "2001   93   69  0.574   0.0  44-37  49-32\n",
       "2002   84   78  0.519 -13.0  47-34  37-44\n",
       "2003   87   75  0.537  -1.0  48-33  39-42\n",
       "2004   92   70  0.568 -13.0  48-33  44-37\n",
       "2005   89   73  0.549 -11.0  53-28  36-45\n",
       "2006   82   80  0.506  -1.5  44-37  38-43\n",
       "2007   73   89  0.451 -12.0  42-39  31-50\n",
       "2008   86   75  0.534 -11.0  47-33  39-42\n",
       "2009   74   88  0.457 -17.0  44-37  30-51\n",
       "2010   76   86  0.469 -15.0  42-39  34-47\n",
       "2011   56  106  0.346 -40.0  31-50  25-56\n",
       "2012   55  107  0.340 -42.0  35-46  20-61\n",
       "2013   51  111  0.315 -45.0  24-57  27-54\n",
       "2014   70   92  0.432 -28.0  38-43  32-49\n",
       "2015   86   76  0.531  -2.0  53-28  33-48\n",
       "2016   84   78  0.519 -11.0  43-38  41-40\n",
       "2017  101   61  0.623   0.0  48-33  53-28"
      ]
     },
     "execution_count": 23,
     "metadata": {},
     "output_type": "execute_result"
    }
   ],
   "source": [
    "record = pd.read_csv('data/Houston_Record_2000-2017.csv', index_col='YEAR')\n",
    "# Let's look at the 'Stros record over those years\n",
    "record"
   ]
  },
  {
   "cell_type": "code",
   "execution_count": 24,
   "metadata": {},
   "outputs": [
    {
     "data": {
      "image/png": "[encoded data removed]",
      "text/plain": [
       "<matplotlib.figure.Figure at 0x11ae03f60>"
      ]
     },
     "metadata": {},
     "output_type": "display_data"
    },
    {
     "data": {
      "text/plain": [
       "<matplotlib.figure.Figure at 0x115a5d358>"
      ]
     },
     "metadata": {},
     "output_type": "display_data"
    }
   ],
   "source": [
    "HOU_GRAPH = HOU03.groupby(HOU03.YEAR)\n",
    "HOU03.boxplot(by='YEAR')\n",
    "fig=plt.figure(figsize=(30, 25), dpi= 80, facecolor='w', edgecolor='k')\n",
    "plt.show()"
   ]
  },
  {
   "cell_type": "code",
   "execution_count": 25,
   "metadata": {},
   "outputs": [
    {
     "data": {
      "text/plain": [
       "<matplotlib.axes._subplots.AxesSubplot at 0x114906f60>"
      ]
     },
     "execution_count": 25,
     "metadata": {},
     "output_type": "execute_result"
    },
    {
     "data": {
      "image/png": "[encoded data removed]",
      "text/plain": [
       "<matplotlib.figure.Figure at 0x1139e2dd8>"
      ]
     },
     "metadata": {},
     "output_type": "display_data"
    }
   ],
   "source": [
    "games_back = record['GB']\n",
    "games_back.plot()"
   ]
  },
  {
   "cell_type": "code",
   "execution_count": 26,
   "metadata": {},
   "outputs": [],
   "source": [
    "# I hate to say this, but it looks like the Astros have \"fair weather\" fans"
   ]
  },
  {
   "cell_type": "code",
   "execution_count": null,
   "metadata": {},
   "outputs": [],
   "source": [
    " "
   ]
  }
 ],
 "metadata": {
  "kernelspec": {
   "display_name": "Python 3",
   "language": "python",
   "name": "python3"
  },
  "language_info": {
   "codemirror_mode": {
    "name": "ipython",
    "version": 3
   },
   "file_extension": ".py",
   "mimetype": "text/x-python",
   "name": "python",
   "nbconvert_exporter": "python",
   "pygments_lexer": "ipython3",
   "version": "3.6.4"
  }
 },
 "nbformat": 4,
 "nbformat_minor": 2
}
